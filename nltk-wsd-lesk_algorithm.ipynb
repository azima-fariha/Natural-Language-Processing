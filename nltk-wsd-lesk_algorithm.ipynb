{
 "cells": [
  {
   "cell_type": "markdown",
   "metadata": {},
   "source": [
    "## Exercise 4.2 – Word Sense Disambiguation with NLTK"
   ]
  },
  {
   "cell_type": "markdown",
   "metadata": {},
   "source": [
    "### Use the Lesk algorithm provided by Python NLTK Word Sense Disambiguation (WSD) module to find the correct definition (i.e. WordNet’s synset definition) of the word “rock” in the following sentences:\n"
   ]
  },
  {
   "cell_type": "markdown",
   "metadata": {},
   "source": [
    "#### ➢ “A rock is classified according to characteristics such as mineral and chemical composition”;"
   ]
  },
  {
   "cell_type": "markdown",
   "metadata": {},
   "source": [
    "#### ➢ “Queen are a British rock band formed in London in 1970”."
   ]
  },
  {
   "cell_type": "code",
   "execution_count": 1,
   "metadata": {},
   "outputs": [],
   "source": [
    "#Import Libraries\n",
    "from nltk.wsd import lesk\n",
    "from nltk.corpus import wordnet as wn"
   ]
  },
  {
   "cell_type": "code",
   "execution_count": 2,
   "metadata": {},
   "outputs": [
    {
     "name": "stdout",
     "output_type": "stream",
     "text": [
      "Synset('rock.n.01') a lump or mass of hard consolidated mineral matter\n",
      "Synset('rock.n.02') material consisting of the aggregate of minerals like those making up the Earth's crust\n",
      "Synset('rock.n.03') United States gynecologist and devout Catholic who conducted the first clinical trials of the oral contraceptive pill (1890-1984)\n",
      "Synset('rock.n.04') (figurative) someone who is strong and stable and dependable; ; --Gospel According to Matthew\n",
      "Synset('rock_candy.n.01') hard bright-colored stick candy (typically flavored with peppermint)\n",
      "Synset('rock_'n'_roll.n.01') a genre of popular music originating in the 1950s; a blend of black rhythm-and-blues with white country-and-western\n",
      "Synset('rock.n.07') pitching dangerously to one side\n",
      "Synset('rock.v.01') move back and forth or sideways\n",
      "Synset('rock.v.02') cause to move back and forth\n"
     ]
    }
   ],
   "source": [
    "#Different Definitions of \"rock\"\n",
    "for ss in wn.synsets('rock'):\n",
    "   print(ss, ss.definition())"
   ]
  },
  {
   "cell_type": "markdown",
   "metadata": {},
   "source": [
    "#### Performs the classic Lesk algorithm for Word Sense Disambiguation (WSD) using a the definitions of the ambiguous word. Given an ambiguous word and the context in which the word occurs, Lesk returns a Synset with the highest number of overlapping words between the context sentence and different definitions from each Synset."
   ]
  },
  {
   "cell_type": "code",
   "execution_count": 3,
   "metadata": {},
   "outputs": [],
   "source": [
    "#Tokenizing the sentence\n",
    "sent1 = 'A rock is classified according to characteristics such as mineral and chemical composition'.split()"
   ]
  },
  {
   "cell_type": "code",
   "execution_count": 4,
   "metadata": {},
   "outputs": [
    {
     "data": {
      "text/plain": [
       "Synset('rock.n.04')"
      ]
     },
     "execution_count": 4,
     "metadata": {},
     "output_type": "execute_result"
    }
   ],
   "source": [
    "#Looks for the most appropriate Synset given the word in the specific context\n",
    "lesk(sent1, 'rock')"
   ]
  },
  {
   "cell_type": "code",
   "execution_count": 5,
   "metadata": {},
   "outputs": [
    {
     "name": "stdout",
     "output_type": "stream",
     "text": [
      "(figurative) someone who is strong and stable and dependable; ; --Gospel According to Matthew\n"
     ]
    }
   ],
   "source": [
    "#Prints the definition of the resulting Synset\n",
    "print(wn.synset('rock.n.04').definition())"
   ]
  },
  {
   "cell_type": "code",
   "execution_count": 6,
   "metadata": {},
   "outputs": [
    {
     "data": {
      "text/plain": [
       "Synset('rock_'n'_roll.n.01')"
      ]
     },
     "execution_count": 6,
     "metadata": {},
     "output_type": "execute_result"
    }
   ],
   "source": [
    "sent2='Queen are a British rock band formed in London in 1970'.split()\n",
    "lesk(sent2, 'rock')"
   ]
  },
  {
   "cell_type": "code",
   "execution_count": 7,
   "metadata": {},
   "outputs": [
    {
     "name": "stdout",
     "output_type": "stream",
     "text": [
      "a genre of popular music originating in the 1950s; a blend of black rhythm-and-blues with white country-and-western\n"
     ]
    }
   ],
   "source": [
    "print(wn.synset(\"rock_'n'_roll.n.01\").definition())"
   ]
  },
  {
   "cell_type": "markdown",
   "metadata": {},
   "source": [
    "### Observation:"
   ]
  },
  {
   "cell_type": "markdown",
   "metadata": {},
   "source": [
    "#### As we can see for the first example it does not return the synset correctly but for the second example it correctly identifies the synset."
   ]
  },
  {
   "cell_type": "markdown",
   "metadata": {},
   "source": [
    "### Let's try removing stopwords and then identify"
   ]
  },
  {
   "cell_type": "code",
   "execution_count": 9,
   "metadata": {},
   "outputs": [
    {
     "name": "stderr",
     "output_type": "stream",
     "text": [
      "[nltk_data] Downloading package stopwords to /Users/azima/nltk_data...\n",
      "[nltk_data]   Package stopwords is already up-to-date!\n"
     ]
    }
   ],
   "source": [
    "import nltk\n",
    "from nltk.corpus import stopwords\n",
    "nltk.download('stopwords')\n",
    "stop_word=set(stopwords.words('english'))"
   ]
  },
  {
   "cell_type": "code",
   "execution_count": 13,
   "metadata": {},
   "outputs": [
    {
     "name": "stdout",
     "output_type": "stream",
     "text": [
      "['A', 'rock', 'classified', 'according', 'characteristics', 'mineral', 'chemical', 'composition']\n"
     ]
    }
   ],
   "source": [
    "#Removing Stopwords from the First Sentence\n",
    "new_sent1=[w for w in sent1 if not w in stop_word]\n",
    "print(new_sent1)"
   ]
  },
  {
   "cell_type": "code",
   "execution_count": 14,
   "metadata": {},
   "outputs": [
    {
     "name": "stdout",
     "output_type": "stream",
     "text": [
      "['Queen', 'British', 'rock', 'band', 'formed', 'London', '1970']\n"
     ]
    }
   ],
   "source": [
    "#Removing Stopwords from the Second Sentence\n",
    "new_sent2=[w for w in sent2 if not w in stop_word]\n",
    "print(new_sent2)"
   ]
  },
  {
   "cell_type": "code",
   "execution_count": 21,
   "metadata": {},
   "outputs": [
    {
     "name": "stdout",
     "output_type": "stream",
     "text": [
      "For First Sentence meaning of 'rock':  a lump or mass of hard consolidated mineral matter\n",
      "For Second Sentence meaning of 'rock':  hard bright-colored stick candy (typically flavored with peppermint)\n"
     ]
    }
   ],
   "source": [
    "print(\"For First Sentence meaning of 'rock': \",lesk(new_sent1, 'rock').definition())\n",
    "print(\"For Second Sentence meaning of 'rock': \",lesk(new_sent2, 'rock').definition())"
   ]
  },
  {
   "cell_type": "markdown",
   "metadata": {},
   "source": [
    "### Observation"
   ]
  },
  {
   "cell_type": "markdown",
   "metadata": {},
   "source": [
    "#### Here we can observe a complete opposite scenario. After removing the stopwords the synset for the first sentence is correctly identified whereas for the second sentence it is wrong."
   ]
  },
  {
   "cell_type": "markdown",
   "metadata": {},
   "source": [
    "### We should not use Lesk Algorithm after removing the stopwords as it is designed to work considering the stopwords."
   ]
  },
  {
   "cell_type": "code",
   "execution_count": null,
   "metadata": {},
   "outputs": [],
   "source": []
  }
 ],
 "metadata": {
  "kernelspec": {
   "display_name": "Python 3",
   "language": "python",
   "name": "python3"
  },
  "language_info": {
   "codemirror_mode": {
    "name": "ipython",
    "version": 3
   },
   "file_extension": ".py",
   "mimetype": "text/x-python",
   "name": "python",
   "nbconvert_exporter": "python",
   "pygments_lexer": "ipython3",
   "version": "3.7.4"
  }
 },
 "nbformat": 4,
 "nbformat_minor": 2
}
